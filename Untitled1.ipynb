{
 "cells": [
  {
   "cell_type": "code",
   "execution_count": 3,
   "id": "aef720ad-51be-45eb-80a4-bf15b81de9cb",
   "metadata": {},
   "outputs": [
    {
     "ename": "ModuleNotFoundError",
     "evalue": "No module named 'torch'",
     "output_type": "error",
     "traceback": [
      "\u001b[1;31m---------------------------------------------------------------------------\u001b[0m",
      "\u001b[1;31mModuleNotFoundError\u001b[0m                       Traceback (most recent call last)",
      "Cell \u001b[1;32mIn[3], line 1\u001b[0m\n\u001b[1;32m----> 1\u001b[0m \u001b[38;5;28;01mimport\u001b[39;00m \u001b[38;5;21;01mtorch\u001b[39;00m\n\u001b[0;32m      2\u001b[0m \u001b[38;5;28;01mimport\u001b[39;00m \u001b[38;5;21;01mpyro\u001b[39;00m\n\u001b[0;32m      3\u001b[0m \u001b[38;5;28;01mimport\u001b[39;00m \u001b[38;5;21;01mpyro\u001b[39;00m\u001b[38;5;21;01m.\u001b[39;00m\u001b[38;5;21;01mdistributions\u001b[39;00m \u001b[38;5;28;01mas\u001b[39;00m \u001b[38;5;21;01mdist\u001b[39;00m\n",
      "\u001b[1;31mModuleNotFoundError\u001b[0m: No module named 'torch'"
     ]
    }
   ],
   "source": [
    "import torch\n",
    "import pyro\n",
    "import pyro.distributions as dist\n",
    "from pyro.infer import SVI, Trace_ELBO\n",
    "from pyro.optim import Adam\n",
    "\n",
    "# Define the model\n",
    "def model(data):\n",
    "    # Priors for fixed effects\n",
    "    beta0 = pyro.sample('beta0', dist.Normal(0, 1))\n",
    "    beta1 = pyro.sample('beta1', dist.Normal(0, 1))\n",
    "    beta2 = pyro.sample('beta2', dist.Normal(0, 1))\n",
    "    \n",
    "    # Priors for random effects\n",
    "    sigma_b = pyro.sample('sigma_b', dist.HalfCauchy(0, 1))\n",
    "    b = pyro.sample('b', dist.Normal(0, sigma_b))\n",
    "    \n",
    "    # Model equation\n",
    "    mu = beta0 + beta1 * data['trialno'] + beta2 * data['trialno'] ** 2 + b[data['session']]\n",
    "    \n",
    "    # Likelihood\n",
    "    with pyro.plate('data', len(data)):\n",
    "        pyro.sample('obs', dist.Bernoulli(logits=mu), obs=data['accuracy'])\n",
    "\n",
    "# Define the guide\n",
    "def guide(data):\n",
    "    # Variational parameters for fixed effects\n",
    "    beta0_loc = pyro.param('beta0_loc', torch.tensor(0.))\n",
    "    beta0_scale = pyro.param('beta0_scale', torch.tensor(1.), constraint=dist.constraints.positive)\n",
    "    beta0 = pyro.sample('beta0', dist.Normal(beta0_loc, beta0_scale))\n",
    "    # Define other variational parameters similarly for other fixed effects\n",
    "    \n",
    "    # Variational parameters for random effects\n",
    "    sigma_b_loc = pyro.param('sigma_b_loc', torch.tensor(1.), constraint=dist.constraints.positive)\n",
    "    sigma_b_scale = pyro.param('sigma_b_scale', torch.tensor(1.), constraint=dist.constraints.positive)\n",
    "    sigma_b = pyro.sample('sigma_b', dist.Normal(sigma_b_loc, sigma_b_scale))\n",
    "    b_loc = pyro.param('b_loc', torch.zeros(len(data['session'])))\n",
    "    b_scale = pyro.param('b_scale', torch.ones(len(data['session'])), constraint=dist.constraints.positive)\n",
    "    b = pyro.sample('b', dist.Normal(b_loc, b_scale))\n",
    "\n",
    "# Prepare data\n",
    "data = ...  # Your data\n",
    "\n",
    "# Run inference\n",
    "adam_params = {\"lr\": 0.01}\n",
    "optimizer = Adam(adam_params)\n",
    "svi = SVI(model, guide, optimizer, loss=Trace_ELBO())\n",
    "num_iterations = 1000\n",
    "for i in range(num_iterations):\n",
    "    loss = svi.step(data)\n",
    "\n",
    "# Extract posterior samples\n",
    "posterior_samples = {k: v.detach().cpu().numpy() for k, v in pyro.get_param_store().items()}\n",
    "\n",
    "# Perform posterior analysis\n",
    "# (e.g., compute means, medians, credible intervals, predictions, etc.)\n"
   ]
  },
  {
   "cell_type": "code",
   "execution_count": 4,
   "id": "a6fb1db3-8c16-4a59-a167-d9e3162a4a3f",
   "metadata": {},
   "outputs": [
    {
     "name": "stdout",
     "output_type": "stream",
     "text": [
      "Collecting pyro-pplNote: you may need to restart the kernel to use updated packages.\n",
      "\n",
      "  Downloading pyro_ppl-1.9.0-py3-none-any.whl.metadata (7.7 kB)\n",
      "Requirement already satisfied: numpy>=1.7 in c:\\users\\i587504\\appdata\\local\\anaconda3\\lib\\site-packages (from pyro-ppl) (1.26.4)\n",
      "Collecting opt-einsum>=2.3.2 (from pyro-ppl)\n",
      "  Downloading opt_einsum-3.3.0-py3-none-any.whl.metadata (6.5 kB)\n",
      "Collecting pyro-api>=0.1.1 (from pyro-ppl)\n",
      "  Downloading pyro_api-0.1.2-py3-none-any.whl.metadata (2.5 kB)\n",
      "Collecting torch>=2.0 (from pyro-ppl)\n",
      "  Using cached torch-2.3.0-cp311-cp311-win_amd64.whl.metadata (26 kB)\n",
      "Requirement already satisfied: tqdm>=4.36 in c:\\users\\i587504\\appdata\\local\\anaconda3\\lib\\site-packages (from pyro-ppl) (4.65.0)\n",
      "Requirement already satisfied: filelock in c:\\users\\i587504\\appdata\\local\\anaconda3\\lib\\site-packages (from torch>=2.0->pyro-ppl) (3.13.1)\n",
      "Requirement already satisfied: typing-extensions>=4.8.0 in c:\\users\\i587504\\appdata\\local\\anaconda3\\lib\\site-packages (from torch>=2.0->pyro-ppl) (4.9.0)\n",
      "Requirement already satisfied: sympy in c:\\users\\i587504\\appdata\\local\\anaconda3\\lib\\site-packages (from torch>=2.0->pyro-ppl) (1.12)\n",
      "Requirement already satisfied: networkx in c:\\users\\i587504\\appdata\\local\\anaconda3\\lib\\site-packages (from torch>=2.0->pyro-ppl) (3.1)\n",
      "Requirement already satisfied: jinja2 in c:\\users\\i587504\\appdata\\local\\anaconda3\\lib\\site-packages (from torch>=2.0->pyro-ppl) (3.1.3)\n",
      "Requirement already satisfied: fsspec in c:\\users\\i587504\\appdata\\local\\anaconda3\\lib\\site-packages (from torch>=2.0->pyro-ppl) (2023.10.0)\n",
      "Collecting mkl<=2021.4.0,>=2021.1.1 (from torch>=2.0->pyro-ppl)\n",
      "  Using cached mkl-2021.4.0-py2.py3-none-win_amd64.whl.metadata (1.4 kB)\n",
      "Requirement already satisfied: colorama in c:\\users\\i587504\\appdata\\local\\anaconda3\\lib\\site-packages (from tqdm>=4.36->pyro-ppl) (0.4.6)\n",
      "Collecting intel-openmp==2021.* (from mkl<=2021.4.0,>=2021.1.1->torch>=2.0->pyro-ppl)\n",
      "  Using cached intel_openmp-2021.4.0-py2.py3-none-win_amd64.whl.metadata (1.2 kB)\n",
      "Requirement already satisfied: tbb==2021.* in c:\\users\\i587504\\appdata\\local\\anaconda3\\lib\\site-packages (from mkl<=2021.4.0,>=2021.1.1->torch>=2.0->pyro-ppl) (2021.12.0)\n",
      "Requirement already satisfied: MarkupSafe>=2.0 in c:\\users\\i587504\\appdata\\local\\anaconda3\\lib\\site-packages (from jinja2->torch>=2.0->pyro-ppl) (2.1.3)\n",
      "Requirement already satisfied: mpmath>=0.19 in c:\\users\\i587504\\appdata\\local\\anaconda3\\lib\\site-packages (from sympy->torch>=2.0->pyro-ppl) (1.3.0)\n",
      "Downloading pyro_ppl-1.9.0-py3-none-any.whl (745 kB)\n",
      "   ---------------------------------------- 0.0/745.2 kB ? eta -:--:--\n",
      "   -- ------------------------------------- 51.2/745.2 kB 1.3 MB/s eta 0:00:01\n",
      "   -------- ------------------------------- 163.8/745.2 kB 1.6 MB/s eta 0:00:01\n",
      "   -------------------------- ------------- 491.5/745.2 kB 3.9 MB/s eta 0:00:01\n",
      "   ------------------------------------- -- 696.3/745.2 kB 4.0 MB/s eta 0:00:01\n",
      "   ---------------------------------------  737.3/745.2 kB 3.9 MB/s eta 0:00:01\n",
      "   ---------------------------------------- 745.2/745.2 kB 2.9 MB/s eta 0:00:00\n",
      "Downloading opt_einsum-3.3.0-py3-none-any.whl (65 kB)\n",
      "   ---------------------------------------- 0.0/65.5 kB ? eta -:--:--\n",
      "   ---------------------------------------- 65.5/65.5 kB 1.2 MB/s eta 0:00:00\n",
      "Downloading pyro_api-0.1.2-py3-none-any.whl (11 kB)\n",
      "Using cached torch-2.3.0-cp311-cp311-win_amd64.whl (159.8 MB)\n",
      "Using cached mkl-2021.4.0-py2.py3-none-win_amd64.whl (228.5 MB)\n",
      "Using cached intel_openmp-2021.4.0-py2.py3-none-win_amd64.whl (3.5 MB)\n",
      "Installing collected packages: pyro-api, intel-openmp, opt-einsum, mkl, torch, pyro-ppl\n",
      "Successfully installed intel-openmp-2021.4.0 mkl-2021.4.0 opt-einsum-3.3.0 pyro-api-0.1.2 pyro-ppl-1.9.0 torch-2.3.0\n"
     ]
    }
   ],
   "source": [
    "pip install pyro-ppl"
   ]
  },
  {
   "cell_type": "code",
   "execution_count": null,
   "id": "b6b87a6c-1fe2-4933-9d10-c4a8fd91eb32",
   "metadata": {},
   "outputs": [],
   "source": []
  }
 ],
 "metadata": {
  "kernelspec": {
   "display_name": "Python 3 (ipykernel)",
   "language": "python",
   "name": "python3"
  },
  "language_info": {
   "codemirror_mode": {
    "name": "ipython",
    "version": 3
   },
   "file_extension": ".py",
   "mimetype": "text/x-python",
   "name": "python",
   "nbconvert_exporter": "python",
   "pygments_lexer": "ipython3",
   "version": "3.11.8"
  }
 },
 "nbformat": 4,
 "nbformat_minor": 5
}
